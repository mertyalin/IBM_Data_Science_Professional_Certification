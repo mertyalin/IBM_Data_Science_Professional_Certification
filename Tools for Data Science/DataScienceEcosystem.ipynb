{
 "cells": [
  {
   "cell_type": "markdown",
   "id": "ef93d092",
   "metadata": {},
   "source": [
    "# Data Science Tools and Ecosystem"
   ]
  },
  {
   "cell_type": "markdown",
   "id": "08d0ceab",
   "metadata": {},
   "source": [
    "In this notebook, Data Science Tools and Ecosystem are summarized."
   ]
  },
  {
   "cell_type": "markdown",
   "id": "4b928e5f",
   "metadata": {},
   "source": [
    "**Objectives:**\n",
    "\n",
    "- Explore popular languages for Data Science.\n",
    "- Understand the basics of Jupyter Notebooks.\n",
    "- Learn about open-source tools for Data Science.\n",
    "- Evaluate arithmetic expressions in Python.\n",
    "- Convert units, such as minutes to hours, using Python.\n"
   ]
  },
  {
   "cell_type": "markdown",
   "id": "0cafdd2b",
   "metadata": {},
   "source": [
    "Some of the popular languages that Data Scientists use are: 1.Python 2.R 3.Julia"
   ]
  },
  {
   "cell_type": "markdown",
   "id": "4cc319af",
   "metadata": {},
   "source": [
    "Some of the commonly used libraries used by Data Scientists include: 1.NumPy 2.Pandas 3.Matplotlib"
   ]
  },
  {
   "cell_type": "markdown",
   "id": "ec3e686e",
   "metadata": {},
   "source": [
    "| Data Science Tools       |\n",
    "|--------------------------|\n",
    "| Jupyter Notebook         |\n",
    "| RStudio                  |\n",
    "| VS Code with Python      |"
   ]
  },
  {
   "cell_type": "markdown",
   "id": "0ce6e73d",
   "metadata": {},
   "source": [
    "### Examples of Evaluating Arithmetic Expressions in Python\n"
   ]
  },
  {
   "cell_type": "code",
   "execution_count": 1,
   "id": "a36eddf9",
   "metadata": {},
   "outputs": [
    {
     "data": {
      "text/plain": [
       "17"
      ]
     },
     "execution_count": 1,
     "metadata": {},
     "output_type": "execute_result"
    }
   ],
   "source": [
    "# This is a simple arithmetic expression to multiply then add integers.\n",
    "result = (3 * 4) + 5\n",
    "result\n"
   ]
  },
  {
   "cell_type": "code",
   "execution_count": 2,
   "id": "17ba43fb",
   "metadata": {},
   "outputs": [
    {
     "data": {
      "text/plain": [
       "3.3333333333333335"
      ]
     },
     "execution_count": 2,
     "metadata": {},
     "output_type": "execute_result"
    }
   ],
   "source": [
    "# This will convert 200 minutes to hours by dividing by 60.\n",
    "minutes = 200\n",
    "hours = minutes / 60\n",
    "hours\n"
   ]
  },
  {
   "cell_type": "markdown",
   "id": "e38f4344",
   "metadata": {},
   "source": [
    "## Author\n",
    "\n",
    "Mert Yalin\n"
   ]
  },
  {
   "cell_type": "code",
   "execution_count": null,
   "id": "ede56776",
   "metadata": {},
   "outputs": [],
   "source": []
  }
 ],
 "metadata": {
  "kernelspec": {
   "display_name": "Python 3 (ipykernel)",
   "language": "python",
   "name": "python3"
  },
  "language_info": {
   "codemirror_mode": {
    "name": "ipython",
    "version": 3
   },
   "file_extension": ".py",
   "mimetype": "text/x-python",
   "name": "python",
   "nbconvert_exporter": "python",
   "pygments_lexer": "ipython3",
   "version": "3.11.5"
  }
 },
 "nbformat": 4,
 "nbformat_minor": 5
}
